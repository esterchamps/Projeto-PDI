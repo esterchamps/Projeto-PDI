{
 "cells": [
  {
   "cell_type": "code",
   "execution_count": 66,
   "id": "ac6f3195",
   "metadata": {},
   "outputs": [],
   "source": [
    "import numpy as np\n",
    "import cv2\n",
    "import os\n",
    "import matplotlib.pyplot as plt\n",
    "from PIL import Image"
   ]
  },
  {
   "cell_type": "code",
   "execution_count": 67,
   "id": "712e1c33",
   "metadata": {},
   "outputs": [],
   "source": [
    "crack_images_name_list = os.listdir('dataset/train/crack/')\n",
    "noncrack_images_name_list = os.listdir('dataset/train/non-crack/')"
   ]
  },
  {
   "cell_type": "code",
   "execution_count": 68,
   "id": "a8f12d40",
   "metadata": {},
   "outputs": [],
   "source": [
    "noncrack_images_name_list.remove('labels.txt')"
   ]
  },
  {
   "cell_type": "code",
   "execution_count": 69,
   "id": "b2687166",
   "metadata": {},
   "outputs": [],
   "source": [
    "image_width = 256\n",
    "image_heigth = 256"
   ]
  },
  {
   "cell_type": "code",
   "execution_count": 70,
   "id": "614d8e9e",
   "metadata": {},
   "outputs": [],
   "source": [
    "crack_images_list = []\n",
    "for image_name in crack_images_name_list:\n",
    "    im = cv2.imread('dataset/train/crack/'+ image_name, cv2.IMREAD_GRAYSCALE)\n",
    "    #im_color = cv2.cvtColor(im, cv2.COLOR_BGR2RGB)\n",
    "    im_resized = cv2.resize(im, (image_width, image_heigth))\n",
    "    crack_images_list.append(im_resized)\n",
    "    \n",
    "noncrack_images_list = []\n",
    "for image_name in noncrack_images_name_list:\n",
    "    im = cv2.imread('dataset/train/non-crack/'+ image_name, cv2.IMREAD_GRAYSCALE)\n",
    "    #im_color = cv2.cvtColor(im, cv2.COLOR_BGR2RGB)\n",
    "    im_resized = cv2.resize(im, (image_width, image_heigth))\n",
    "    noncrack_images_list.append(im_resized)"
   ]
  },
  {
   "cell_type": "code",
   "execution_count": 73,
   "id": "c930b278",
   "metadata": {},
   "outputs": [],
   "source": [
    "#plt.imshow(crack_images_list[0], cmap='gray')"
   ]
  },
  {
   "cell_type": "code",
   "execution_count": 74,
   "id": "d96214a3",
   "metadata": {},
   "outputs": [],
   "source": [
    "# OTSU THRESHOLD\n",
    "thresholded_crack_images = []\n",
    "for image in crack_images_list:\n",
    "    ret, thresholded = cv2.threshold(image, 0, 255, cv2.THRESH_BINARY + cv2.THRESH_OTSU)\n",
    "    thresholded_crack_images.append(thresholded)"
   ]
  },
  {
   "cell_type": "code",
   "execution_count": 77,
   "id": "baf92cda",
   "metadata": {},
   "outputs": [],
   "source": [
    "def save_single_channel_processed_images_for_comparison(original_images_list, original_images_names_list, \\\n",
    "                                                        processed_images_with_single_channel, \\\n",
    "                                                        directory_to_save):\n",
    "    height = original_images_list[0].shape[0]\n",
    "    width = original_images_list[0].shape[1]\n",
    "    \n",
    "    for idx in range(len(original_images_names_list)):\n",
    "        \n",
    "        collage_width = original_images_list[idx].shape[1] * 2\n",
    "        collage = np.ones((height, collage_width), np.uint8) * 255\n",
    "        collage = cv2.resize(collage, (collage_width, height))\n",
    "        \n",
    "        collage[:, :original_images_list[idx].shape[1]] = original_images_list[idx]\n",
    "        collage[:, original_images_list[idx].shape[1]:] = processed_images_with_single_channel[idx]\n",
    "        \n",
    "        if not os.path.exists('processed-dataset-tests/' + directory_to_save):\n",
    "            os.makedirs('processed-dataset-tests/' + directory_to_save)\n",
    "        cv2.imwrite('processed-dataset-tests/' + directory_to_save + '/' + original_images_names_list[idx], collage)"
   ]
  },
  {
   "cell_type": "code",
   "execution_count": 78,
   "id": "2d8244c5",
   "metadata": {},
   "outputs": [],
   "source": [
    "save_single_channel_processed_images_for_comparison(crack_images_list, \\\n",
    "                                                    crack_images_name_list, \\\n",
    "                                                    thresholded_crack_images, \\\n",
    "                                                    'only-otsu')"
   ]
  },
  {
   "cell_type": "code",
   "execution_count": 82,
   "id": "6d130c2d",
   "metadata": {},
   "outputs": [],
   "source": [
    "# SOBEL OPERATOR\n",
    "sobel_images = []\n",
    "canny_images = []\n",
    "for image in crack_images_list:\n",
    "    gradient_x = cv2.Sobel(image, cv2.CV_64F, 1, 0, ksize=3)\n",
    "    gradient_y = cv2.Sobel(image, cv2.CV_64F, 0, 1, ksize=3)\n",
    "    gradient_magnitude = np.sqrt(gradient_x**2 + gradient_y**2)\n",
    "    gradient_magnitude = cv2.convertScaleAbs(gradient_magnitude)\n",
    "    \n",
    "    sobel_images.append(gradient_magnitude)\n",
    "    \n",
    "    canny_edges = cv2.Canny(gradient_magnitude, threshold1=50, threshold2=150)\n",
    "    \n",
    "    canny_images.append(canny_edges)"
   ]
  },
  {
   "cell_type": "code",
   "execution_count": 83,
   "id": "fc210048",
   "metadata": {},
   "outputs": [],
   "source": [
    "save_single_channel_processed_images_for_comparison(crack_images_list, \\\n",
    "                                                    crack_images_name_list, \\\n",
    "                                                    sobel_images, \\\n",
    "                                                    'only-sobel')"
   ]
  },
  {
   "cell_type": "code",
   "execution_count": 85,
   "id": "a33346a9",
   "metadata": {},
   "outputs": [],
   "source": [
    "save_single_channel_processed_images_for_comparison(crack_images_list, \\\n",
    "                                                    crack_images_name_list, \\\n",
    "                                                    canny_images, \\\n",
    "                                                    'only-canny')"
   ]
  },
  {
   "cell_type": "code",
   "execution_count": 87,
   "id": "71f30b9c",
   "metadata": {},
   "outputs": [],
   "source": [
    "# SOBEL + OTSU THRESHOLD\n",
    "sobel_otsu_crack_images = []\n",
    "for image in sobel_images:\n",
    "    ret, thresholded = cv2.threshold(image, 0, 255, cv2.THRESH_BINARY + cv2.THRESH_OTSU)\n",
    "    sobel_otsu_crack_images.append(thresholded)"
   ]
  },
  {
   "cell_type": "code",
   "execution_count": 88,
   "id": "68d55471",
   "metadata": {},
   "outputs": [],
   "source": [
    "save_single_channel_processed_images_for_comparison(crack_images_list, \\\n",
    "                                                    crack_images_name_list, \\\n",
    "                                                    sobel_otsu_crack_images, \\\n",
    "                                                    'sobel-and-otsu')"
   ]
  },
  {
   "cell_type": "code",
   "execution_count": 81,
   "id": "84e23f3e",
   "metadata": {},
   "outputs": [
    {
     "data": {
      "text/plain": [
       "<matplotlib.image.AxesImage at 0x16384126970>"
      ]
     },
     "execution_count": 81,
     "metadata": {},
     "output_type": "execute_result"
    },
    {
     "data": {
      "image/png": "[encoded data removed]",
      "text/plain": [
       "<Figure size 640x480 with 1 Axes>"
      ]
     },
     "metadata": {},
     "output_type": "display_data"
    }
   ],
   "source": [
    "plt.imshow(sobel_images[1], cmap='gray')"
   ]
  },
  {
   "cell_type": "code",
   "execution_count": null,
   "id": "524f6972",
   "metadata": {},
   "outputs": [],
   "source": []
  }
 ],
 "metadata": {
  "kernelspec": {
   "display_name": "Python 3 (ipykernel)",
   "language": "python",
   "name": "python3"
  },
  "language_info": {
   "codemirror_mode": {
    "name": "ipython",
    "version": 3
   },
   "file_extension": ".py",
   "mimetype": "text/x-python",
   "name": "python",
   "nbconvert_exporter": "python",
   "pygments_lexer": "ipython3",
   "version": "3.9.13"
  }
 },
 "nbformat": 4,
 "nbformat_minor": 5
}
