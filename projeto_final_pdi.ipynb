{
 "cells": [
  {
   "cell_type": "code",
   "execution_count": 99,
   "id": "6f0d348f",
   "metadata": {},
   "outputs": [],
   "source": [
    "import numpy as np\n",
    "import cv2\n",
    "import os\n",
    "import matplotlib.pyplot as plt\n",
    "from PIL import Image\n",
    "import random\n",
    "import csv"
   ]
  },
  {
   "cell_type": "code",
   "execution_count": 43,
   "id": "6be80a6f",
   "metadata": {},
   "outputs": [],
   "source": [
    "from sklearn.svm import SVC\n",
    "from sklearn.metrics import accuracy_score, confusion_matrix, f1_score, precision_score, recall_score\n",
    "from sklearn.ensemble import RandomForestClassifier, VotingClassifier\n",
    "from sklearn.ensemble import StackingClassifier\n",
    "from sklearn.model_selection import GridSearchCV\n",
    "from sklearn.metrics import accuracy_score, confusion_matrix, f1_score, precision_score, recall_score"
   ]
  },
  {
   "cell_type": "code",
   "execution_count": 8,
   "id": "ff21d425",
   "metadata": {},
   "outputs": [],
   "source": [
    "import joblib"
   ]
  },
  {
   "cell_type": "markdown",
   "id": "011dc1a2",
   "metadata": {},
   "source": [
    "## Constantes (paths, dimensões, etc)"
   ]
  },
  {
   "cell_type": "code",
   "execution_count": 85,
   "id": "40e8700a",
   "metadata": {},
   "outputs": [],
   "source": [
    "base_dir_train_crack = 'dataset/train/crack/'\n",
    "base_dir_train_non_crack = 'dataset/train/non-crack_random_subset/'\n",
    "base_dir_test_crack = 'dataset/test/crack/'\n",
    "base_dir_test_non_crack = 'dataset/test/non-crack_random_subset/'\n",
    "base_dir_processed_train_images = 'processed-dataset-train/'\n",
    "base_dir_trained_models = 'trained-models/'"
   ]
  },
  {
   "cell_type": "code",
   "execution_count": 10,
   "id": "229bd0f6",
   "metadata": {},
   "outputs": [],
   "source": [
    "preprocessed_image_name_prefix = 'preprocessed_'"
   ]
  },
  {
   "cell_type": "code",
   "execution_count": 100,
   "id": "b779a94e",
   "metadata": {},
   "outputs": [],
   "source": [
    "svm_model_filename = 'svm_model.pkl'\n",
    "rf_model_filename = 'rf_model.pkl'"
   ]
  },
  {
   "cell_type": "code",
   "execution_count": 150,
   "id": "0f0d63ab",
   "metadata": {},
   "outputs": [],
   "source": [
    "testing_case_dir = 'testing-case-example/Testing/'\n",
    "testing_case_csv_file_name = 'Testing.csv'"
   ]
  },
  {
   "cell_type": "code",
   "execution_count": 11,
   "id": "8ad12410",
   "metadata": {},
   "outputs": [],
   "source": [
    "default_image_width = 256\n",
    "default_image_height = 256"
   ]
  },
  {
   "cell_type": "code",
   "execution_count": 12,
   "id": "57d722a3",
   "metadata": {},
   "outputs": [],
   "source": [
    "median_blur_kernel_size = 3\n",
    "clahe_clip_limit = 4.0\n",
    "clahe_tile_grid_size = (30, 30)\n",
    "first_erosion_iterations = 3\n",
    "first_dilation_iterations = 2\n",
    "size_for_erosion_and_dilation_element = 2\n",
    "\n",
    "element_for_erosion_and_dilation = \\\n",
    "    cv2.getStructuringElement(cv2.MORPH_CROSS, \\\n",
    "                              (2 * size_for_erosion_and_dilation_element + 1, 2 * size_for_erosion_and_dilation_element + 1), \\\n",
    "                              (size_for_erosion_and_dilation_element, size_for_erosion_and_dilation_element))\n",
    "\n",
    "adapt_thresh_neighbour_size = 11\n",
    "adapt_thresh_subtraction_constant = 2\n",
    "\n",
    "sobel_kernel_size = 3"
   ]
  },
  {
   "cell_type": "code",
   "execution_count": 13,
   "id": "799774f6",
   "metadata": {},
   "outputs": [],
   "source": [
    "svm_param_grid_for_search = {\n",
    "    'C': [0.1, 1, 10],\n",
    "    'kernel': ['linear', 'rbf', 'poly'],\n",
    "    'gamma': ['scale', 'auto']\n",
    "}"
   ]
  },
  {
   "cell_type": "code",
   "execution_count": 83,
   "id": "3d747bd5",
   "metadata": {},
   "outputs": [],
   "source": [
    "rf_param_grid_for_search = {\n",
    "    'n_estimators': [150, 250],\n",
    "    'max_depth': [10, 20],\n",
    "    'min_samples_split': [3, 7],\n",
    "    'min_samples_leaf': [1, 2, 4]\n",
    "}"
   ]
  },
  {
   "cell_type": "markdown",
   "id": "d028b54a",
   "metadata": {},
   "source": [
    "## Funções de pré-processamento"
   ]
  },
  {
   "cell_type": "code",
   "execution_count": 14,
   "id": "acc0085d",
   "metadata": {},
   "outputs": [],
   "source": [
    "def pre_process_with_grayscale_median_clahe_darkening_erosion_dilation( \\\n",
    "                                                                 images_list, \\\n",
    "                                                                 median_blur_kernel_size, \\\n",
    "                                                                 clahe_clip_limit, \\\n",
    "                                                                 clahe_tile_grid_size, \\\n",
    "                                                                 element_for_erosion_and_dilation, \\\n",
    "                                                                 first_erosion_iterations, \\\n",
    "                                                                 first_dilation_iterations):\n",
    "    \n",
    "    pre_processed_images = []\n",
    "    clahe = cv2.createCLAHE(clipLimit = clahe_clip_limit, tileGridSize = clahe_tile_grid_size)\n",
    "    \n",
    "    for image in images_list:\n",
    "        grayscale_image = cv2.cvtColor(image, cv2.COLOR_RGB2GRAY) # converte para escala de cinzas\n",
    "        blured_image = cv2.medianBlur(grayscale_image, median_blur_kernel_size) # aplica filtro de mediana\n",
    "        clahe_image = clahe.apply(blured_image) # aplica equalizacao de histograma por blocos, uniformiza iluminacao\n",
    "        min_pixel_value = np.min(clahe_image) # obtem o pixel de menor valor na imagem\n",
    "        darker_image = clahe_image - min_pixel_value # escurece toda a imagem, subtraindo o valor do menor pixel\n",
    "        \n",
    "        erosion_image = cv2.erode(darker_image, \\\n",
    "                                  element_for_erosion_and_dilation, \\\n",
    "                                  iterations = first_erosion_iterations) # aplica n erosoes\n",
    "        \n",
    "        dilated_image = cv2.dilate(erosion_image, \\\n",
    "                                   element_for_erosion_and_dilation, \\\n",
    "                                   iterations = first_dilation_iterations) # aplica n dilatacoes\n",
    "        \n",
    "        pre_processed_images.append(dilated_image)\n",
    "        \n",
    "    return pre_processed_images"
   ]
  },
  {
   "cell_type": "code",
   "execution_count": 48,
   "id": "28c59aa2",
   "metadata": {},
   "outputs": [],
   "source": [
    "def pre_process_with_grayscale_median_clahe_darkening_erosion_dilation_adaptthreshold(\n",
    "                                                                            images_list, \\\n",
    "                                                                            median_blur_kernel_size, \\\n",
    "                                                                            clahe_clip_limit, \\\n",
    "                                                                            clahe_tile_grid_size, \\\n",
    "                                                                            element_for_erosion_and_dilation, \\\n",
    "                                                                            first_erosion_iterations, \\\n",
    "                                                                            first_dilation_iterations, \\\n",
    "                                                                            adapt_thresh_neighbour_size, \\\n",
    "                                                                            adapt_thresh_subtraction_constant):\n",
    "    \n",
    "    pre_processed_images = []\n",
    "    clahe = cv2.createCLAHE(clipLimit = clahe_clip_limit, tileGridSize = clahe_tile_grid_size)\n",
    "    \n",
    "    for image in images_list:\n",
    "        grayscale_image = cv2.cvtColor(image, cv2.COLOR_RGB2GRAY) # converte para escala de cinzas\n",
    "        blured_image = cv2.medianBlur(grayscale_image, median_blur_kernel_size) # aplica filtro de mediana\n",
    "        clahe_image = clahe.apply(blured_image) # aplica equalizacao de histograma por blocos, uniformiza iluminacao\n",
    "        min_pixel_value = np.min(clahe_image) # obtem o pixel de menor valor na imagem\n",
    "        darker_image = clahe_image - min_pixel_value # escurece toda a imagem, subtraindo o valor do menor pixel\n",
    "        \n",
    "        erosion_image = cv2.erode(darker_image, \\\n",
    "                                  element_for_erosion_and_dilation, \\\n",
    "                                  iterations = first_erosion_iterations) # aplica n erosoes\n",
    "        \n",
    "        dilated_image = cv2.dilate(erosion_image, \\\n",
    "                                   element_for_erosion_and_dilation, \\\n",
    "                                   iterations = first_dilation_iterations) # aplica n dilatacoes\n",
    "        \n",
    "        image_threshold = cv2.adaptiveThreshold(dilated_image, 255, \\\n",
    "                                                cv2.ADAPTIVE_THRESH_MEAN_C, \\\n",
    "                                                cv2.THRESH_BINARY, \\\n",
    "                                                adapt_thresh_neighbour_size, \\\n",
    "                                                adapt_thresh_subtraction_constant) # binarização por threshold adaptativo\n",
    "        \n",
    "        pre_processed_images.append(image_threshold)\n",
    "        \n",
    "    return pre_processed_images"
   ]
  },
  {
   "cell_type": "code",
   "execution_count": 16,
   "id": "ccc8d57a",
   "metadata": {},
   "outputs": [],
   "source": [
    "def pre_process_with_grayscale_median_clahe_darkening_erosion_dilation_sobel(\n",
    "                                                                   images_list, \\\n",
    "                                                                   median_blur_kernel_size, \\\n",
    "                                                                   clahe_clip_limit, \\\n",
    "                                                                   clahe_tile_grid_size, \\\n",
    "                                                                   element_for_erosion_and_dilation, \\\n",
    "                                                                   first_erosion_iterations, \\\n",
    "                                                                   first_dilation_iterations, \\\n",
    "                                                                   sobel_kernel_size):\n",
    "    \n",
    "    pre_processed_images = []\n",
    "    clahe = cv2.createCLAHE(clipLimit = clahe_clip_limit, tileGridSize = clahe_tile_grid_size)\n",
    "    \n",
    "    for image in images_list:\n",
    "        grayscale_image = cv2.cvtColor(image, cv2.COLOR_RGB2GRAY) # converte para escala de cinzas\n",
    "        blured_image = cv2.medianBlur(grayscale_image, median_blur_kernel_size) # aplica filtro de mediana\n",
    "        clahe_image = clahe.apply(blured_image) # aplica equalizacao de histograma por blocos, uniformiza iluminacao\n",
    "        min_pixel_value = np.min(clahe_image) # obtem o pixel de menor valor na imagem\n",
    "        darker_image = clahe_image - min_pixel_value # escurece toda a imagem, subtraindo o valor do menor pixel\n",
    "        \n",
    "        erosion_image = cv2.erode(darker_image, \\\n",
    "                                  element_for_erosion_and_dilation, \\\n",
    "                                  iterations = first_erosion_iterations) # aplica 2 erosoes\n",
    "        \n",
    "        dilated_image = cv2.dilate(erosion_image, \\\n",
    "                                   element_for_erosion_and_dilation, \\\n",
    "                                   iterations = first_dilation_iterations) # aplica 2 dilatacoes\n",
    "        \n",
    "        gradient_x = cv2.Sobel(dilated_image, cv2.CV_64F, 1, 0, ksize=sobel_kernel_size)\n",
    "        gradient_y = cv2.Sobel(dilated_image, cv2.CV_64F, 0, 1, ksize=sobel_kernel_size)\n",
    "        gradient_magnitude = np.sqrt(gradient_x**2 + gradient_y**2)\n",
    "        gradient_magnitude = cv2.convertScaleAbs(gradient_magnitude) # obtém o filtro sobel horizontal e vertical\n",
    "        \n",
    "        pre_processed_images.append(gradient_magnitude)\n",
    "        \n",
    "    return pre_processed_images"
   ]
  },
  {
   "cell_type": "code",
   "execution_count": 130,
   "id": "9bd78e81",
   "metadata": {},
   "outputs": [],
   "source": [
    "def pre_process_with_median_clahe_darkening_erosion_dilation( \\\n",
    "                                                             images_list, \\\n",
    "                                                             median_blur_kernel_size, \\\n",
    "                                                             clahe_clip_limit, \\\n",
    "                                                             clahe_tile_grid_size, \\\n",
    "                                                             element_for_erosion_and_dilation, \\\n",
    "                                                             first_erosion_iterations, \\\n",
    "                                                             first_dilation_iterations):\n",
    "    \n",
    "    pre_processed_images = []\n",
    "    clahe = cv2.createCLAHE(clipLimit = clahe_clip_limit, tileGridSize = clahe_tile_grid_size)\n",
    "    \n",
    "    for image in images_list:\n",
    "        blured_image = cv2.medianBlur(image, median_blur_kernel_size) # aplica filtro de mediana\n",
    "        img_lab = cv2.cvtColor(blured_image, cv2.COLOR_RGB2Lab)\n",
    "        img_lab[:,:,0] = clahe.apply(img_lab[:,:,0])\n",
    "        clahe_image = cv2.cvtColor(img_lab, cv2.COLOR_Lab2RGB)\n",
    "        \n",
    "        min_pixel_value = np.min(clahe_image) # obtem o pixel de menor valor na imagem\n",
    "        darker_image = clahe_image - min_pixel_value # escurece toda a imagem, subtraindo o valor do menor pixel\n",
    "        \n",
    "        erosion_image = cv2.erode(darker_image, \\\n",
    "                                  element_for_erosion_and_dilation, \\\n",
    "                                  iterations = first_erosion_iterations) # aplica n erosoes\n",
    "        \n",
    "        dilated_image = cv2.dilate(erosion_image, \\\n",
    "                                   element_for_erosion_and_dilation, \\\n",
    "                                   iterations = first_dilation_iterations) # aplica n dilatacoes\n",
    "        \n",
    "        pre_processed_images.append(dilated_image)\n",
    "        \n",
    "    return pre_processed_images"
   ]
  },
  {
   "cell_type": "markdown",
   "id": "515c4469",
   "metadata": {},
   "source": [
    "## Demais funções"
   ]
  },
  {
   "cell_type": "code",
   "execution_count": 24,
   "id": "8b2a41fb",
   "metadata": {},
   "outputs": [],
   "source": [
    "def load_images_from_name_list(base_dir, list_with_names, default_image_width, default_image_height):\n",
    "    loaded_images = []\n",
    "    for image_name in list_with_names:\n",
    "        im = cv2.imread(base_dir + image_name)\n",
    "        im_correct_colorscheme = cv2.cvtColor(im, cv2.COLOR_BGR2RGB)\n",
    "        im_resized = cv2.resize(im_correct_colorscheme, (default_image_width, default_image_height))\n",
    "        loaded_images.append(im_resized)\n",
    "    return loaded_images"
   ]
  },
  {
   "cell_type": "code",
   "execution_count": 18,
   "id": "8228a1f7",
   "metadata": {},
   "outputs": [],
   "source": [
    "def save_images(base_dir, images_list, images_names_list, image_name_prefix, directory_to_save):\n",
    "    for idx in range(len(images_names_list)):\n",
    "        \n",
    "        if not os.path.exists(base_dir + directory_to_save):\n",
    "            os.makedirs(base_dir + directory_to_save)\n",
    "            \n",
    "        cv2.imwrite(base_dir + directory_to_save + '/' + image_name_prefix + images_names_list[idx], images_list[idx])"
   ]
  },
  {
   "cell_type": "code",
   "execution_count": 19,
   "id": "6b188abf",
   "metadata": {},
   "outputs": [],
   "source": [
    "def get_data_and_labels(pre_processed_train_crack, pre_processed_train_non_crack):\n",
    "    input_masks = []\n",
    "    input_masks.extend(pre_processed_train_crack)\n",
    "    input_masks.extend(pre_processed_train_non_crack) # adicionamos todas as imagens à lista de input do modelo\n",
    "    input_labels = []\n",
    "    input_labels.extend(np.ones((len(pre_processed_train_crack), ), np.uint8))\n",
    "    input_labels.extend(np.zeros((len(pre_processed_train_non_crack), ), np.uint8)) # adicionamos as labels das imagens\n",
    "\n",
    "    input_masks = list(map(lambda x:x.flatten(), input_masks)) # aqui, redimensionamos as imagens para terem 1 dimensao\n",
    "\n",
    "    zipped_list_for_shuffle = list(zip(input_masks, input_labels))\n",
    "    random.shuffle(zipped_list_for_shuffle)\n",
    "    \n",
    "    shuffled_input_masks, shuffled_input_labels = zip(*zipped_list_for_shuffle)\n",
    "    \n",
    "    return list(shuffled_input_masks), list(shuffled_input_labels)"
   ]
  },
  {
   "cell_type": "markdown",
   "id": "ec737e49",
   "metadata": {},
   "source": [
    "## Carregando conjunto de dados"
   ]
  },
  {
   "cell_type": "code",
   "execution_count": 20,
   "id": "1c918ddc",
   "metadata": {},
   "outputs": [],
   "source": [
    "crack_images_for_train_name_list = os.listdir(base_dir_train_crack)\n",
    "non_crack_images_for_train_name_list = os.listdir(base_dir_train_non_crack)\n",
    "\n",
    "crack_images_for_test_name_list = os.listdir(base_dir_test_crack)\n",
    "non_crack_images_for_test_name_list = os.listdir(base_dir_test_non_crack)"
   ]
  },
  {
   "cell_type": "code",
   "execution_count": 25,
   "id": "2ba54e23",
   "metadata": {},
   "outputs": [],
   "source": [
    "crack_images_for_train_list = load_images_from_name_list(base_dir_train_crack, \\\n",
    "                                                         crack_images_for_train_name_list, \\\n",
    "                                                         default_image_width, default_image_height)"
   ]
  },
  {
   "cell_type": "code",
   "execution_count": 26,
   "id": "1f0993f7",
   "metadata": {},
   "outputs": [],
   "source": [
    "non_crack_images_for_train_list = load_images_from_name_list(base_dir_train_non_crack, \\\n",
    "                                                             non_crack_images_for_train_name_list, \\\n",
    "                                                             default_image_width, default_image_height)"
   ]
  },
  {
   "cell_type": "code",
   "execution_count": 30,
   "id": "24f6a73f",
   "metadata": {},
   "outputs": [],
   "source": [
    "crack_images_for_test_list = load_images_from_name_list(base_dir_test_crack, \\\n",
    "                                                         crack_images_for_test_name_list, \\\n",
    "                                                         default_image_width, default_image_height)"
   ]
  },
  {
   "cell_type": "code",
   "execution_count": 31,
   "id": "d04ef6dc",
   "metadata": {},
   "outputs": [],
   "source": [
    "non_crack_images_for_test_list = load_images_from_name_list(base_dir_test_non_crack, \\\n",
    "                                                             non_crack_images_for_test_name_list, \\\n",
    "                                                             default_image_width, default_image_height)"
   ]
  },
  {
   "cell_type": "markdown",
   "id": "dbba0f64",
   "metadata": {},
   "source": [
    "## Treinamento dos modelos"
   ]
  },
  {
   "cell_type": "markdown",
   "id": "6017b698",
   "metadata": {},
   "source": [
    "### Pré-processamento 1: Conversão escala de cinzas, filtro mediana, CLAHE, escurecimento, erosão e dilatação"
   ]
  },
  {
   "cell_type": "code",
   "execution_count": 32,
   "id": "dc92c5d9",
   "metadata": {},
   "outputs": [],
   "source": [
    "pre_processed_train_crack_1 = pre_process_with_grayscale_median_clahe_darkening_erosion_dilation( \\\n",
    "                                                                                       crack_images_for_train_list, \\\n",
    "                                                                                       median_blur_kernel_size, \\\n",
    "                                                                                       clahe_clip_limit, \\\n",
    "                                                                                       clahe_tile_grid_size, \\\n",
    "                                                                                       element_for_erosion_and_dilation, \\\n",
    "                                                                                       first_erosion_iterations, \\\n",
    "                                                                                       first_dilation_iterations)"
   ]
  },
  {
   "cell_type": "code",
   "execution_count": 33,
   "id": "0263038d",
   "metadata": {},
   "outputs": [],
   "source": [
    "pre_processed_train_non_crack_1 = pre_process_with_grayscale_median_clahe_darkening_erosion_dilation( \\\n",
    "                                                                                           non_crack_images_for_train_list, \\\n",
    "                                                                                           median_blur_kernel_size, \\\n",
    "                                                                                           clahe_clip_limit, \\\n",
    "                                                                                           clahe_tile_grid_size, \\\n",
    "                                                                                           element_for_erosion_and_dilation, \\\n",
    "                                                                                           first_erosion_iterations, \\\n",
    "                                                                                           first_dilation_iterations)"
   ]
  },
  {
   "cell_type": "code",
   "execution_count": 34,
   "id": "d61dfb9c",
   "metadata": {},
   "outputs": [],
   "source": [
    "pre_processed_test_crack_1 = pre_process_with_grayscale_median_clahe_darkening_erosion_dilation( \\\n",
    "                                                                                       crack_images_for_test_list, \\\n",
    "                                                                                       median_blur_kernel_size, \\\n",
    "                                                                                       clahe_clip_limit, \\\n",
    "                                                                                       clahe_tile_grid_size, \\\n",
    "                                                                                       element_for_erosion_and_dilation, \\\n",
    "                                                                                       first_erosion_iterations, \\\n",
    "                                                                                       first_dilation_iterations)"
   ]
  },
  {
   "cell_type": "code",
   "execution_count": 35,
   "id": "0fd0b185",
   "metadata": {},
   "outputs": [],
   "source": [
    "pre_processed_test_non_crack_1 = pre_process_with_grayscale_median_clahe_darkening_erosion_dilation( \\\n",
    "                                                                                           non_crack_images_for_test_list, \\\n",
    "                                                                                           median_blur_kernel_size, \\\n",
    "                                                                                           clahe_clip_limit, \\\n",
    "                                                                                           clahe_tile_grid_size, \\\n",
    "                                                                                           element_for_erosion_and_dilation, \\\n",
    "                                                                                           first_erosion_iterations, \\\n",
    "                                                                                           first_dilation_iterations)"
   ]
  },
  {
   "cell_type": "code",
   "execution_count": 36,
   "id": "694ec461",
   "metadata": {},
   "outputs": [],
   "source": [
    "save_images(base_dir_processed_train_images, \\\n",
    "            pre_processed_train_crack_1, \\\n",
    "            crack_images_for_train_name_list, \\\n",
    "            preprocessed_image_name_prefix, \\\n",
    "            'crack_1')"
   ]
  },
  {
   "cell_type": "code",
   "execution_count": 37,
   "id": "5a29789f",
   "metadata": {},
   "outputs": [],
   "source": [
    "save_images(base_dir_processed_train_images, \\\n",
    "            pre_processed_train_non_crack_1, \\\n",
    "            non_crack_images_for_train_name_list, \\\n",
    "            preprocessed_image_name_prefix, \\\n",
    "            'non-crack_1')"
   ]
  },
  {
   "cell_type": "markdown",
   "id": "134d073c",
   "metadata": {},
   "source": [
    "#### SVM"
   ]
  },
  {
   "cell_type": "code",
   "execution_count": 80,
   "id": "f638b016",
   "metadata": {},
   "outputs": [],
   "source": [
    "input_data_1, input_labels_1 = get_data_and_labels(pre_processed_train_crack_1, pre_processed_train_non_crack_1)"
   ]
  },
  {
   "cell_type": "code",
   "execution_count": 39,
   "id": "0daa7f41",
   "metadata": {},
   "outputs": [
    {
     "data": {
      "text/plain": [
       "GridSearchCV(cv=5, estimator=SVC(),\n",
       "             param_grid={'C': [0.1, 1, 10], 'gamma': ['scale', 'auto'],\n",
       "                         'kernel': ['linear', 'rbf', 'poly']},\n",
       "             scoring='accuracy')"
      ]
     },
     "execution_count": 39,
     "metadata": {},
     "output_type": "execute_result"
    }
   ],
   "source": [
    "svm_model_1 = SVC()\n",
    "grid_search_svm_1 = GridSearchCV(svm_model_1, svm_param_grid_for_search, cv=5, scoring='accuracy')\n",
    "grid_search_svm_1.fit(input_data_1, input_labels_1)"
   ]
  },
  {
   "cell_type": "code",
   "execution_count": 81,
   "id": "f914cb55",
   "metadata": {},
   "outputs": [],
   "source": [
    "test_data_1, test_labels_1 = get_data_and_labels(pre_processed_test_crack_1, pre_processed_test_non_crack_1)"
   ]
  },
  {
   "cell_type": "code",
   "execution_count": 41,
   "id": "eb7cfb25",
   "metadata": {},
   "outputs": [
    {
     "name": "stdout",
     "output_type": "stream",
     "text": [
      "Best Hyperparameters SVM 1: {'C': 10, 'gamma': 'scale', 'kernel': 'rbf'}\n",
      "Best Accuracy SVM 1: 0.8333333333333333\n",
      "Test Set Accuracy SVM 1: 0.8407643312101911\n"
     ]
    }
   ],
   "source": [
    "print(\"Best Hyperparameters SVM 1:\", grid_search_svm_1.best_params_)\n",
    "print(\"Best Accuracy SVM 1:\", grid_search_svm_1.best_score_)\n",
    "best_svm_model_1 = grid_search_svm_1.best_estimator_\n",
    "accuracy_1 = best_svm_model_1.score(test_data_1, test_labels_1)\n",
    "print(\"Test Set Accuracy SVM 1:\", accuracy_1)"
   ]
  },
  {
   "cell_type": "code",
   "execution_count": 42,
   "id": "531ff591",
   "metadata": {},
   "outputs": [],
   "source": [
    "svm_test_prediction_1 = best_svm_model_1.predict(test_data_1)"
   ]
  },
  {
   "cell_type": "code",
   "execution_count": 45,
   "id": "34be301e",
   "metadata": {},
   "outputs": [],
   "source": [
    "accuracy_svm_1 = accuracy_score(svm_test_prediction_1, test_labels_1)\n",
    "precision_svm_1 = precision_score(test_labels_1, svm_test_prediction_1)\n",
    "recall_svm_1 = recall_score(test_labels_1, svm_test_prediction_1)\n",
    "f1_svm_1 = f1_score(svm_test_prediction_1, test_labels_1)"
   ]
  },
  {
   "cell_type": "code",
   "execution_count": 58,
   "id": "2f0d2f2f",
   "metadata": {},
   "outputs": [
    {
     "name": "stdout",
     "output_type": "stream",
     "text": [
      "Precision: 0.8513513513513513\n",
      "Recall: 0.8181818181818182\n",
      "F1-SCORE: 0.8344370860927152\n"
     ]
    }
   ],
   "source": [
    "print(\"Precision:\", precision_svm_1)\n",
    "print(\"Recall:\", recall_svm_1)\n",
    "print(\"F1-SCORE:\", f1_svm_1)"
   ]
  },
  {
   "cell_type": "code",
   "execution_count": 76,
   "id": "e74ab39a",
   "metadata": {},
   "outputs": [
    {
     "data": {
      "text/plain": [
       "array([[69, 14],\n",
       "       [11, 63]], dtype=int64)"
      ]
     },
     "execution_count": 76,
     "metadata": {},
     "output_type": "execute_result"
    }
   ],
   "source": [
    "conf_matrix_svm_1 = confusion_matrix(svm_test_prediction_1, test_labels_1)\n",
    "conf_matrix_svm_1"
   ]
  },
  {
   "cell_type": "code",
   "execution_count": 86,
   "id": "f0eca64e",
   "metadata": {},
   "outputs": [
    {
     "data": {
      "text/plain": [
       "['trained-models/preprocess1_svm_model.pkl']"
      ]
     },
     "execution_count": 86,
     "metadata": {},
     "output_type": "execute_result"
    }
   ],
   "source": [
    "joblib.dump(best_svm_model_1, base_dir_trained_models + 'preprocess1_' + svm_model_filename)"
   ]
  },
  {
   "cell_type": "markdown",
   "id": "e1627831",
   "metadata": {},
   "source": [
    "#### Random Forest"
   ]
  },
  {
   "cell_type": "code",
   "execution_count": 82,
   "id": "41e3525e",
   "metadata": {},
   "outputs": [
    {
     "data": {
      "text/plain": [
       "GridSearchCV(cv=5, estimator=RandomForestClassifier(),\n",
       "             param_grid={'max_depth': [None, 10, 20],\n",
       "                         'min_samples_leaf': [1, 2, 4],\n",
       "                         'min_samples_split': [2, 5, 10],\n",
       "                         'n_estimators': [100, 200, 300]},\n",
       "             scoring='accuracy')"
      ]
     },
     "execution_count": 82,
     "metadata": {},
     "output_type": "execute_result"
    }
   ],
   "source": [
    "rf_model_1 = RandomForestClassifier()\n",
    "grid_search_rf_1 = GridSearchCV(rf_model_1, rf_param_grid_for_search, cv=5, scoring='accuracy')\n",
    "grid_search_rf_1.fit(input_data_1, input_labels_1)"
   ]
  },
  {
   "cell_type": "code",
   "execution_count": 87,
   "id": "2f1814f9",
   "metadata": {},
   "outputs": [
    {
     "name": "stdout",
     "output_type": "stream",
     "text": [
      "Best Hyperparameters RF 1: {'max_depth': 10, 'min_samples_leaf': 1, 'min_samples_split': 5, 'n_estimators': 100}\n",
      "Best Accuracy RF 1: 0.8300000000000001\n",
      "Test Set Accuracy: 0.8407643312101911\n"
     ]
    }
   ],
   "source": [
    "print(\"Best Hyperparameters RF 1:\", grid_search_rf_1.best_params_)\n",
    "print(\"Best Accuracy RF 1:\", grid_search_rf_1.best_score_)\n",
    "best_model_rf_1 = grid_search_rf_1.best_estimator_\n",
    "accuracy_rf_1 = best_model_rf_1.score(test_data_1, test_labels_1)\n",
    "print(\"Test Set Accuracy:\", accuracy_rf_1)"
   ]
  },
  {
   "cell_type": "code",
   "execution_count": 88,
   "id": "3ad3b8c5",
   "metadata": {},
   "outputs": [],
   "source": [
    "rf_test_prediction_1 = best_model_rf_1.predict(test_data_1)"
   ]
  },
  {
   "cell_type": "code",
   "execution_count": 89,
   "id": "1e5d76c0",
   "metadata": {},
   "outputs": [],
   "source": [
    "precision_rf_1 = precision_score(test_labels_1, rf_test_prediction_1)\n",
    "recall_rf_1 = recall_score(test_labels_1, rf_test_prediction_1)\n",
    "f1_rf_1 = f1_score(rf_test_prediction_1, test_labels_1)"
   ]
  },
  {
   "cell_type": "code",
   "execution_count": 90,
   "id": "08859075",
   "metadata": {},
   "outputs": [
    {
     "name": "stdout",
     "output_type": "stream",
     "text": [
      "Precision RF 1: 0.8095238095238095\n",
      "Recall RF 1: 0.8831168831168831\n",
      "F1-SCORE RF 1: 0.84472049689441\n"
     ]
    }
   ],
   "source": [
    "print(\"Precision RF 1:\", precision_rf_1)\n",
    "print(\"Recall RF 1:\", recall_rf_1)\n",
    "print(\"F1-SCORE RF 1:\", f1_rf_1)"
   ]
  },
  {
   "cell_type": "code",
   "execution_count": 91,
   "id": "ba01b426",
   "metadata": {},
   "outputs": [
    {
     "data": {
      "text/plain": [
       "array([[64,  9],\n",
       "       [16, 68]], dtype=int64)"
      ]
     },
     "execution_count": 91,
     "metadata": {},
     "output_type": "execute_result"
    }
   ],
   "source": [
    "conf_matrix_rf_1 = confusion_matrix(rf_test_prediction_1, test_labels_1)\n",
    "conf_matrix_rf_1"
   ]
  },
  {
   "cell_type": "code",
   "execution_count": 106,
   "id": "70382f0f",
   "metadata": {},
   "outputs": [
    {
     "data": {
      "text/plain": [
       "['trained-models/preprocess1_rf_model.pkl']"
      ]
     },
     "execution_count": 106,
     "metadata": {},
     "output_type": "execute_result"
    }
   ],
   "source": [
    "joblib.dump(best_model_rf_1, base_dir_trained_models + 'preprocess1_' + rf_model_filename)"
   ]
  },
  {
   "cell_type": "markdown",
   "id": "c43d4278",
   "metadata": {},
   "source": [
    "#### Modelo híbrido (StackingClassifier)"
   ]
  },
  {
   "cell_type": "code",
   "execution_count": 107,
   "id": "bf6f2a2e",
   "metadata": {},
   "outputs": [
    {
     "data": {
      "text/plain": [
       "StackingClassifier(estimators=[('rf',\n",
       "                                RandomForestClassifier(max_depth=10,\n",
       "                                                       min_samples_split=5)),\n",
       "                               ('svm', SVC(C=10))],\n",
       "                   final_estimator=RandomForestClassifier())"
      ]
     },
     "execution_count": 107,
     "metadata": {},
     "output_type": "execute_result"
    }
   ],
   "source": [
    "stacked_model_1 = StackingClassifier(estimators=[('rf', best_model_rf_1), ('svm', best_svm_model_1)], \\\n",
    "                                     final_estimator=RandomForestClassifier())\n",
    "stacked_model_1.fit(input_data_1, input_labels_1)"
   ]
  },
  {
   "cell_type": "code",
   "execution_count": 108,
   "id": "c397d27c",
   "metadata": {},
   "outputs": [],
   "source": [
    "sc_predictions_1 = stacked_model_1.predict(test_data_1)"
   ]
  },
  {
   "cell_type": "code",
   "execution_count": 109,
   "id": "6fb622a7",
   "metadata": {},
   "outputs": [],
   "source": [
    "accuracy_s_1 = accuracy_score(sc_predictions_1, test_labels_1)\n",
    "precision_s_1 = precision_score(test_labels_1, sc_predictions_1)\n",
    "recall_s_1 = recall_score(test_labels_1, sc_predictions_1)\n",
    "f1_s_1 = f1_score(sc_predictions_1, test_labels_1)"
   ]
  },
  {
   "cell_type": "code",
   "execution_count": 110,
   "id": "d28f3b0f",
   "metadata": {},
   "outputs": [
    {
     "name": "stdout",
     "output_type": "stream",
     "text": [
      "Acurracy SM 1: 0.7770700636942676\n",
      "Precision SM 1: 0.7837837837837838\n",
      "Recall SM 1: 0.7532467532467533\n",
      "F1-SCORE SM 1: 0.7682119205298014\n"
     ]
    }
   ],
   "source": [
    "print(\"Acurracy SM 1:\", accuracy_s_1)\n",
    "print(\"Precision SM 1:\", precision_s_1)\n",
    "print(\"Recall SM 1:\", recall_s_1)\n",
    "print(\"F1-SCORE SM 1:\", f1_s_1)"
   ]
  },
  {
   "cell_type": "markdown",
   "id": "1b9aab8c",
   "metadata": {},
   "source": [
    "#### Modelo híbrido (VotationClassifier)"
   ]
  },
  {
   "cell_type": "code",
   "execution_count": 117,
   "id": "b4cb51c4",
   "metadata": {},
   "outputs": [],
   "source": [
    "svm_model_votation = SVC(probability=True, C = 10, gamma = 'scale', kernel = 'rbf')"
   ]
  },
  {
   "cell_type": "code",
   "execution_count": 118,
   "id": "9e9a4d23",
   "metadata": {},
   "outputs": [
    {
     "data": {
      "text/plain": [
       "SVC(C=10, probability=True)"
      ]
     },
     "execution_count": 118,
     "metadata": {},
     "output_type": "execute_result"
    }
   ],
   "source": [
    "svm_model_votation.fit(input_data_1, input_labels_1)"
   ]
  },
  {
   "cell_type": "code",
   "execution_count": 119,
   "id": "a0125f98",
   "metadata": {},
   "outputs": [
    {
     "data": {
      "text/plain": [
       "VotingClassifier(estimators=[('rf',\n",
       "                              RandomForestClassifier(max_depth=10,\n",
       "                                                     min_samples_split=5)),\n",
       "                             ('svm', SVC(C=10, probability=True))],\n",
       "                 voting='soft')"
      ]
     },
     "execution_count": 119,
     "metadata": {},
     "output_type": "execute_result"
    }
   ],
   "source": [
    "votation_model_1 = VotingClassifier(estimators=[('rf', best_model_rf_1), ('svm', svm_model_votation)], voting='soft')\n",
    "votation_model_1.fit(input_data_1, input_labels_1)"
   ]
  },
  {
   "cell_type": "code",
   "execution_count": 120,
   "id": "9cb01d96",
   "metadata": {},
   "outputs": [],
   "source": [
    "vt_predictions_1 = votation_model_1.predict(test_data_1)"
   ]
  },
  {
   "cell_type": "code",
   "execution_count": 122,
   "id": "939d20bc",
   "metadata": {},
   "outputs": [],
   "source": [
    "accuracy_v_1 = accuracy_score(vt_predictions_1, test_labels_1)\n",
    "precision_v_1 = precision_score(test_labels_1, vt_predictions_1)\n",
    "recall_v_1 = recall_score(test_labels_1, vt_predictions_1)\n",
    "f1_v_1 = f1_score(vt_predictions_1, test_labels_1)"
   ]
  },
  {
   "cell_type": "code",
   "execution_count": 123,
   "id": "c5a92c5a",
   "metadata": {},
   "outputs": [
    {
     "name": "stdout",
     "output_type": "stream",
     "text": [
      "Acurracy SM 1: 0.8535031847133758\n",
      "Precision SM 1: 0.8214285714285714\n",
      "Recall SM 1: 0.8961038961038961\n",
      "F1-SCORE SM 1: 0.8571428571428571\n"
     ]
    }
   ],
   "source": [
    "print(\"Acurracy SM 1:\", accuracy_v_1)\n",
    "print(\"Precision SM 1:\", precision_v_1)\n",
    "print(\"Recall SM 1:\", recall_v_1)\n",
    "print(\"F1-SCORE SM 1:\", f1_v_1)"
   ]
  },
  {
   "cell_type": "markdown",
   "id": "40e9d481",
   "metadata": {},
   "source": [
    "### Pré-processamento 2: Conversão escala de cinzas, filtro mediana, CLAHE, escurecimento, erosão, dilatação e threshold adaptativo"
   ]
  },
  {
   "cell_type": "code",
   "execution_count": 49,
   "id": "df34b4e5",
   "metadata": {},
   "outputs": [],
   "source": [
    "pre_processed_train_crack_2 = \\\n",
    "    pre_process_with_grayscale_median_clahe_darkening_erosion_dilation_adaptthreshold( \\\n",
    "                                                                            crack_images_for_train_list, \\\n",
    "                                                                            median_blur_kernel_size, \\\n",
    "                                                                            clahe_clip_limit, \\\n",
    "                                                                            clahe_tile_grid_size, \\\n",
    "                                                                            element_for_erosion_and_dilation, \\\n",
    "                                                                            first_erosion_iterations, \\\n",
    "                                                                            first_dilation_iterations, \\\n",
    "                                                                            adapt_thresh_neighbour_size, \\\n",
    "                                                                            adapt_thresh_subtraction_constant)"
   ]
  },
  {
   "cell_type": "code",
   "execution_count": 50,
   "id": "95592f55",
   "metadata": {},
   "outputs": [],
   "source": [
    "pre_processed_train_non_crack_2 = \\\n",
    "    pre_process_with_grayscale_median_clahe_darkening_erosion_dilation_adaptthreshold( \\\n",
    "                                                                            non_crack_images_for_train_list, \\\n",
    "                                                                            median_blur_kernel_size, \\\n",
    "                                                                            clahe_clip_limit, \\\n",
    "                                                                            clahe_tile_grid_size, \\\n",
    "                                                                            element_for_erosion_and_dilation, \\\n",
    "                                                                            first_erosion_iterations, \\\n",
    "                                                                            first_dilation_iterations, \\\n",
    "                                                                            adapt_thresh_neighbour_size, \\\n",
    "                                                                            adapt_thresh_subtraction_constant)"
   ]
  },
  {
   "cell_type": "code",
   "execution_count": 51,
   "id": "dbdf855d",
   "metadata": {},
   "outputs": [],
   "source": [
    "pre_processed_test_crack_2 = pre_process_with_grayscale_median_clahe_darkening_erosion_dilation_adaptthreshold( \\\n",
    "                                                                            crack_images_for_test_list, \\\n",
    "                                                                            median_blur_kernel_size, \\\n",
    "                                                                            clahe_clip_limit, \\\n",
    "                                                                            clahe_tile_grid_size, \\\n",
    "                                                                            element_for_erosion_and_dilation, \\\n",
    "                                                                            first_erosion_iterations, \\\n",
    "                                                                            first_dilation_iterations, \\\n",
    "                                                                            adapt_thresh_neighbour_size, \\\n",
    "                                                                            adapt_thresh_subtraction_constant)"
   ]
  },
  {
   "cell_type": "code",
   "execution_count": 52,
   "id": "3955229f",
   "metadata": {},
   "outputs": [],
   "source": [
    "pre_processed_test_non_crack_2 = \\\n",
    "    pre_process_with_grayscale_median_clahe_darkening_erosion_dilation_adaptthreshold( \\\n",
    "                                                                            non_crack_images_for_test_list, \\\n",
    "                                                                            median_blur_kernel_size, \\\n",
    "                                                                            clahe_clip_limit, \\\n",
    "                                                                            clahe_tile_grid_size, \\\n",
    "                                                                            element_for_erosion_and_dilation, \\\n",
    "                                                                            first_erosion_iterations, \\\n",
    "                                                                            first_dilation_iterations, \\\n",
    "                                                                            adapt_thresh_neighbour_size, \\\n",
    "                                                                            adapt_thresh_subtraction_constant)"
   ]
  },
  {
   "cell_type": "code",
   "execution_count": 53,
   "id": "877ea98f",
   "metadata": {},
   "outputs": [],
   "source": [
    "save_images(base_dir_processed_train_images, \\\n",
    "            pre_processed_train_crack_2, \\\n",
    "            crack_images_for_train_name_list, \\\n",
    "            preprocessed_image_name_prefix, \\\n",
    "            'crack_2')"
   ]
  },
  {
   "cell_type": "code",
   "execution_count": 54,
   "id": "93a7f912",
   "metadata": {},
   "outputs": [],
   "source": [
    "save_images(base_dir_processed_train_images, \\\n",
    "            pre_processed_train_non_crack_2, \\\n",
    "            non_crack_images_for_train_name_list, \\\n",
    "            preprocessed_image_name_prefix, \\\n",
    "            'non-crack_2')"
   ]
  },
  {
   "cell_type": "markdown",
   "id": "fb42e098",
   "metadata": {},
   "source": [
    "Obtendo dados e labels"
   ]
  },
  {
   "cell_type": "code",
   "execution_count": 55,
   "id": "be01761c",
   "metadata": {},
   "outputs": [],
   "source": [
    "input_data_2, input_labels_2 = get_data_and_labels(pre_processed_train_crack_2, pre_processed_train_non_crack_2)"
   ]
  },
  {
   "cell_type": "code",
   "execution_count": 56,
   "id": "f93b3554",
   "metadata": {},
   "outputs": [],
   "source": [
    "test_data_2, test_labels_2 = get_data_and_labels(pre_processed_test_crack_2, pre_processed_test_non_crack_2)"
   ]
  },
  {
   "cell_type": "markdown",
   "id": "3e10e2c7",
   "metadata": {},
   "source": [
    "#### SVM"
   ]
  },
  {
   "cell_type": "code",
   "execution_count": 57,
   "id": "4e166652",
   "metadata": {},
   "outputs": [
    {
     "data": {
      "text/plain": [
       "GridSearchCV(cv=5, estimator=SVC(),\n",
       "             param_grid={'C': [0.1, 1, 10], 'gamma': ['scale', 'auto'],\n",
       "                         'kernel': ['linear', 'rbf', 'poly']},\n",
       "             scoring='accuracy')"
      ]
     },
     "execution_count": 57,
     "metadata": {},
     "output_type": "execute_result"
    }
   ],
   "source": [
    "svm_model_2 = SVC()\n",
    "grid_search_svm_2 = GridSearchCV(svm_model_2, svm_param_grid_for_search, cv=5, scoring='accuracy')\n",
    "grid_search_svm_2.fit(input_data_2, input_labels_2)"
   ]
  },
  {
   "cell_type": "code",
   "execution_count": 59,
   "id": "ffea1807",
   "metadata": {},
   "outputs": [
    {
     "name": "stdout",
     "output_type": "stream",
     "text": [
      "Best Hyperparameters SVM 2: {'C': 1, 'gamma': 'scale', 'kernel': 'rbf'}\n",
      "Best Accuracy SVM 2: 0.7150000000000001\n",
      "Test Set Accuracy SVM 2: 0.6687898089171974\n"
     ]
    }
   ],
   "source": [
    "print(\"Best Hyperparameters SVM 2:\", grid_search_svm_2.best_params_)\n",
    "print(\"Best Accuracy SVM 2:\", grid_search_svm_2.best_score_)\n",
    "best_svm_model_2 = grid_search_svm_2.best_estimator_\n",
    "accuracy_2 = best_svm_model_2.score(test_data_2, test_labels_2)\n",
    "print(\"Test Set Accuracy SVM 2:\", accuracy_2)"
   ]
  },
  {
   "cell_type": "code",
   "execution_count": 60,
   "id": "f9c7c85f",
   "metadata": {},
   "outputs": [],
   "source": [
    "svm_test_prediction_2 = best_svm_model_2.predict(test_data_2)"
   ]
  },
  {
   "cell_type": "code",
   "execution_count": 61,
   "id": "f3b7a56f",
   "metadata": {},
   "outputs": [],
   "source": [
    "precision_svm_2 = precision_score(test_labels_2, svm_test_prediction_2)\n",
    "recall_svm_2 = recall_score(test_labels_2, svm_test_prediction_2)\n",
    "f1_svm_2 = f1_score(svm_test_prediction_2, test_labels_2)"
   ]
  },
  {
   "cell_type": "code",
   "execution_count": 62,
   "id": "22d74986",
   "metadata": {},
   "outputs": [
    {
     "name": "stdout",
     "output_type": "stream",
     "text": [
      "Precision: 0.6436781609195402\n",
      "Recall: 0.7272727272727273\n",
      "F1-SCORE: 0.6829268292682927\n"
     ]
    }
   ],
   "source": [
    "print(\"Precision:\", precision_svm_2)\n",
    "print(\"Recall:\", recall_svm_2)\n",
    "print(\"F1-SCORE:\", f1_svm_2)"
   ]
  },
  {
   "cell_type": "code",
   "execution_count": 77,
   "id": "0b7976f1",
   "metadata": {},
   "outputs": [
    {
     "data": {
      "text/plain": [
       "array([[49, 21],\n",
       "       [31, 56]], dtype=int64)"
      ]
     },
     "execution_count": 77,
     "metadata": {},
     "output_type": "execute_result"
    }
   ],
   "source": [
    "conf_matrix_svm_2 = confusion_matrix(svm_test_prediction_2, test_labels_2)\n",
    "conf_matrix_svm_2"
   ]
  },
  {
   "cell_type": "markdown",
   "id": "e5a0976a",
   "metadata": {},
   "source": [
    "#### Random Forest"
   ]
  },
  {
   "cell_type": "code",
   "execution_count": 92,
   "id": "c6ad002f",
   "metadata": {},
   "outputs": [
    {
     "data": {
      "text/plain": [
       "GridSearchCV(cv=5, estimator=RandomForestClassifier(),\n",
       "             param_grid={'max_depth': [10, 20], 'min_samples_leaf': [1, 2, 4],\n",
       "                         'min_samples_split': [3, 7],\n",
       "                         'n_estimators': [150, 250]},\n",
       "             scoring='accuracy')"
      ]
     },
     "execution_count": 92,
     "metadata": {},
     "output_type": "execute_result"
    }
   ],
   "source": [
    "rf_model_2 = RandomForestClassifier()\n",
    "grid_search_rf_2 = GridSearchCV(rf_model_2, rf_param_grid_for_search, cv=5, scoring='accuracy')\n",
    "grid_search_rf_2.fit(input_data_2, input_labels_2)"
   ]
  },
  {
   "cell_type": "code",
   "execution_count": 93,
   "id": "b0fd6196",
   "metadata": {},
   "outputs": [
    {
     "name": "stdout",
     "output_type": "stream",
     "text": [
      "Best Hyperparameters RF 2: {'max_depth': 20, 'min_samples_leaf': 1, 'min_samples_split': 7, 'n_estimators': 250}\n",
      "Best Accuracy RF 2: 0.72\n",
      "Test Set Accuracy RF 2: 0.6496815286624203\n"
     ]
    }
   ],
   "source": [
    "print(\"Best Hyperparameters RF 2:\", grid_search_rf_2.best_params_)\n",
    "print(\"Best Accuracy RF 2:\", grid_search_rf_2.best_score_)\n",
    "best_model_rf_2 = grid_search_rf_2.best_estimator_\n",
    "accuracy_rf_2 = best_model_rf_2.score(test_data_2, test_labels_2)\n",
    "print(\"Test Set Accuracy RF 2:\", accuracy_rf_2)"
   ]
  },
  {
   "cell_type": "code",
   "execution_count": 94,
   "id": "4981edea",
   "metadata": {},
   "outputs": [],
   "source": [
    "rf_test_prediction_2 = best_model_rf_2.predict(test_data_2)"
   ]
  },
  {
   "cell_type": "code",
   "execution_count": 95,
   "id": "0e56ac85",
   "metadata": {},
   "outputs": [],
   "source": [
    "precision_rf_2 = precision_score(test_labels_2, rf_test_prediction_2)\n",
    "recall_rf_2 = recall_score(test_labels_2, rf_test_prediction_2)\n",
    "f1_rf_2 = f1_score(rf_test_prediction_2, test_labels_2)"
   ]
  },
  {
   "cell_type": "code",
   "execution_count": 96,
   "id": "628f4095",
   "metadata": {},
   "outputs": [
    {
     "name": "stdout",
     "output_type": "stream",
     "text": [
      "Precision RF 2: 0.627906976744186\n",
      "Recall RF 2: 0.7012987012987013\n",
      "F1-SCORE RF 2: 0.6625766871165645\n"
     ]
    }
   ],
   "source": [
    "print(\"Precision RF 2:\", precision_rf_2)\n",
    "print(\"Recall RF 2:\", recall_rf_2)\n",
    "print(\"F1-SCORE RF 2:\", f1_rf_2)"
   ]
  },
  {
   "cell_type": "code",
   "execution_count": 97,
   "id": "b2cbaf4d",
   "metadata": {},
   "outputs": [
    {
     "data": {
      "text/plain": [
       "array([[48, 23],\n",
       "       [32, 54]], dtype=int64)"
      ]
     },
     "execution_count": 97,
     "metadata": {},
     "output_type": "execute_result"
    }
   ],
   "source": [
    "conf_matrix_rf_2 = confusion_matrix(rf_test_prediction_2, test_labels_2)\n",
    "conf_matrix_rf_2"
   ]
  },
  {
   "cell_type": "markdown",
   "id": "72cf14c1",
   "metadata": {},
   "source": [
    "#### Modelo híbrido (StackingClassifier)"
   ]
  },
  {
   "cell_type": "code",
   "execution_count": 124,
   "id": "baf8c0d3",
   "metadata": {},
   "outputs": [
    {
     "data": {
      "text/plain": [
       "StackingClassifier(estimators=[('rf',\n",
       "                                RandomForestClassifier(max_depth=20,\n",
       "                                                       min_samples_split=7,\n",
       "                                                       n_estimators=250)),\n",
       "                               ('svm', SVC(C=1))],\n",
       "                   final_estimator=RandomForestClassifier())"
      ]
     },
     "execution_count": 124,
     "metadata": {},
     "output_type": "execute_result"
    }
   ],
   "source": [
    "stacked_model_2 = StackingClassifier(estimators=[('rf', best_model_rf_2), ('svm', best_svm_model_2)], \\\n",
    "                                     final_estimator=RandomForestClassifier())\n",
    "stacked_model_2.fit(input_data_2, input_labels_2)"
   ]
  },
  {
   "cell_type": "markdown",
   "id": "86a55f0b",
   "metadata": {},
   "source": [
    "### Pré-processamento 3: Conversão escala de cinzas, filtro mediana, CLAHE, escurecimento, erosão, dilatação e filtro Sobel"
   ]
  },
  {
   "cell_type": "code",
   "execution_count": 63,
   "id": "8418dec1",
   "metadata": {},
   "outputs": [],
   "source": [
    "pre_processed_train_crack_3 = \\\n",
    "    pre_process_with_grayscale_median_clahe_darkening_erosion_dilation_sobel( \\\n",
    "                                                                   crack_images_for_train_list, \\\n",
    "                                                                   median_blur_kernel_size, \\\n",
    "                                                                   clahe_clip_limit, \\\n",
    "                                                                   clahe_tile_grid_size, \\\n",
    "                                                                   element_for_erosion_and_dilation, \\\n",
    "                                                                   first_erosion_iterations, \\\n",
    "                                                                   first_dilation_iterations, \\\n",
    "                                                                   sobel_kernel_size)"
   ]
  },
  {
   "cell_type": "code",
   "execution_count": 64,
   "id": "ebd4dc45",
   "metadata": {},
   "outputs": [],
   "source": [
    "pre_processed_train_non_crack_3 = \\\n",
    "    pre_process_with_grayscale_median_clahe_darkening_erosion_dilation_sobel( \\\n",
    "                                                                   non_crack_images_for_train_list, \\\n",
    "                                                                   median_blur_kernel_size, \\\n",
    "                                                                   clahe_clip_limit, \\\n",
    "                                                                   clahe_tile_grid_size, \\\n",
    "                                                                   element_for_erosion_and_dilation, \\\n",
    "                                                                   first_erosion_iterations, \\\n",
    "                                                                   first_dilation_iterations, \\\n",
    "                                                                   sobel_kernel_size)"
   ]
  },
  {
   "cell_type": "code",
   "execution_count": 65,
   "id": "c27007c3",
   "metadata": {},
   "outputs": [],
   "source": [
    "pre_processed_test_crack_3 = \\\n",
    "    pre_process_with_grayscale_median_clahe_darkening_erosion_dilation_sobel( \\\n",
    "                                                                   crack_images_for_test_list, \\\n",
    "                                                                   median_blur_kernel_size, \\\n",
    "                                                                   clahe_clip_limit, \\\n",
    "                                                                   clahe_tile_grid_size, \\\n",
    "                                                                   element_for_erosion_and_dilation, \\\n",
    "                                                                   first_erosion_iterations, \\\n",
    "                                                                   first_dilation_iterations, \\\n",
    "                                                                   sobel_kernel_size)"
   ]
  },
  {
   "cell_type": "code",
   "execution_count": 66,
   "id": "4672fe35",
   "metadata": {},
   "outputs": [],
   "source": [
    "pre_processed_test_non_crack_3 = \\\n",
    "    pre_process_with_grayscale_median_clahe_darkening_erosion_dilation_sobel( \\\n",
    "                                                                   non_crack_images_for_test_list, \\\n",
    "                                                                   median_blur_kernel_size, \\\n",
    "                                                                   clahe_clip_limit, \\\n",
    "                                                                   clahe_tile_grid_size, \\\n",
    "                                                                   element_for_erosion_and_dilation, \\\n",
    "                                                                   first_erosion_iterations, \\\n",
    "                                                                   first_dilation_iterations, \\\n",
    "                                                                   sobel_kernel_size)"
   ]
  },
  {
   "cell_type": "code",
   "execution_count": 67,
   "id": "2a99e393",
   "metadata": {},
   "outputs": [],
   "source": [
    "save_images(base_dir_processed_train_images, \\\n",
    "            pre_processed_train_crack_3, \\\n",
    "            crack_images_for_train_name_list, \\\n",
    "            preprocessed_image_name_prefix, \\\n",
    "            'crack_3')"
   ]
  },
  {
   "cell_type": "code",
   "execution_count": 68,
   "id": "4dfc90c3",
   "metadata": {},
   "outputs": [],
   "source": [
    "save_images(base_dir_processed_train_images, \\\n",
    "            pre_processed_train_non_crack_3, \\\n",
    "            non_crack_images_for_train_name_list, \\\n",
    "            preprocessed_image_name_prefix, \\\n",
    "            'non-crack_3')"
   ]
  },
  {
   "cell_type": "markdown",
   "id": "6d5de930",
   "metadata": {},
   "source": [
    "Obtendo dados e labels"
   ]
  },
  {
   "cell_type": "code",
   "execution_count": 69,
   "id": "f5f18be6",
   "metadata": {},
   "outputs": [],
   "source": [
    "input_data_3, input_labels_3 = get_data_and_labels(pre_processed_train_crack_3, pre_processed_train_non_crack_3)"
   ]
  },
  {
   "cell_type": "code",
   "execution_count": 70,
   "id": "8ffaebea",
   "metadata": {},
   "outputs": [],
   "source": [
    "test_data_3, test_labels_3 = get_data_and_labels(pre_processed_test_crack_3, pre_processed_test_non_crack_3)"
   ]
  },
  {
   "cell_type": "markdown",
   "id": "095691b4",
   "metadata": {},
   "source": [
    "#### SVM"
   ]
  },
  {
   "cell_type": "code",
   "execution_count": 71,
   "id": "23dc9949",
   "metadata": {},
   "outputs": [
    {
     "data": {
      "text/plain": [
       "GridSearchCV(cv=5, estimator=SVC(),\n",
       "             param_grid={'C': [0.1, 1, 10], 'gamma': ['scale', 'auto'],\n",
       "                         'kernel': ['linear', 'rbf', 'poly']},\n",
       "             scoring='accuracy')"
      ]
     },
     "execution_count": 71,
     "metadata": {},
     "output_type": "execute_result"
    }
   ],
   "source": [
    "svm_model_3 = SVC()\n",
    "grid_search_svm_3 = GridSearchCV(svm_model_3, svm_param_grid_for_search, cv=5, scoring='accuracy')\n",
    "grid_search_svm_3.fit(input_data_3, input_labels_3)"
   ]
  },
  {
   "cell_type": "code",
   "execution_count": 72,
   "id": "34c6dd41",
   "metadata": {},
   "outputs": [
    {
     "name": "stdout",
     "output_type": "stream",
     "text": [
      "Best Hyperparameters SVM 3: {'C': 10, 'gamma': 'scale', 'kernel': 'rbf'}\n",
      "Best Accuracy SVM 3: 0.8666666666666666\n",
      "Test Set Accuracy SVM 3: 0.821656050955414\n"
     ]
    }
   ],
   "source": [
    "print(\"Best Hyperparameters SVM 3:\", grid_search_svm_3.best_params_)\n",
    "print(\"Best Accuracy SVM 3:\", grid_search_svm_3.best_score_)\n",
    "best_svm_model_3 = grid_search_svm_3.best_estimator_\n",
    "accuracy_3 = best_svm_model_3.score(test_data_3, test_labels_3)\n",
    "print(\"Test Set Accuracy SVM 3:\", accuracy_3)"
   ]
  },
  {
   "cell_type": "code",
   "execution_count": 73,
   "id": "a96eac08",
   "metadata": {},
   "outputs": [],
   "source": [
    "svm_test_prediction_3 = best_svm_model_3.predict(test_data_3)"
   ]
  },
  {
   "cell_type": "code",
   "execution_count": 74,
   "id": "9df02ccf",
   "metadata": {},
   "outputs": [],
   "source": [
    "precision_svm_3 = precision_score(test_labels_3, svm_test_prediction_3)\n",
    "recall_svm_3 = recall_score(test_labels_3, svm_test_prediction_3)\n",
    "f1_svm_3 = f1_score(svm_test_prediction_3, test_labels_3)"
   ]
  },
  {
   "cell_type": "code",
   "execution_count": 75,
   "id": "0b0bd3aa",
   "metadata": {},
   "outputs": [
    {
     "name": "stdout",
     "output_type": "stream",
     "text": [
      "Precision: 0.8024691358024691\n",
      "Recall: 0.8441558441558441\n",
      "F1-SCORE: 0.8227848101265822\n"
     ]
    }
   ],
   "source": [
    "print(\"Precision:\", precision_svm_3)\n",
    "print(\"Recall:\", recall_svm_3)\n",
    "print(\"F1-SCORE:\", f1_svm_3)"
   ]
  },
  {
   "cell_type": "code",
   "execution_count": 78,
   "id": "52785033",
   "metadata": {},
   "outputs": [
    {
     "data": {
      "text/plain": [
       "array([[64, 12],\n",
       "       [16, 65]], dtype=int64)"
      ]
     },
     "execution_count": 78,
     "metadata": {},
     "output_type": "execute_result"
    }
   ],
   "source": [
    "conf_matrix_svm_3 = confusion_matrix(svm_test_prediction_3, test_labels_3)\n",
    "conf_matrix_svm_3"
   ]
  },
  {
   "cell_type": "markdown",
   "id": "ff67dc47",
   "metadata": {},
   "source": [
    "#### Random Forest"
   ]
  },
  {
   "cell_type": "code",
   "execution_count": 98,
   "id": "0c16036d",
   "metadata": {},
   "outputs": [
    {
     "data": {
      "text/plain": [
       "GridSearchCV(cv=5, estimator=RandomForestClassifier(),\n",
       "             param_grid={'max_depth': [10, 20], 'min_samples_leaf': [1, 2, 4],\n",
       "                         'min_samples_split': [3, 7],\n",
       "                         'n_estimators': [150, 250]},\n",
       "             scoring='accuracy')"
      ]
     },
     "execution_count": 98,
     "metadata": {},
     "output_type": "execute_result"
    }
   ],
   "source": [
    "rf_model_3 = RandomForestClassifier()\n",
    "grid_search_rf_3 = GridSearchCV(rf_model_3, rf_param_grid_for_search, cv=5, scoring='accuracy')\n",
    "grid_search_rf_3.fit(input_data_3, input_labels_3)"
   ]
  },
  {
   "cell_type": "code",
   "execution_count": 101,
   "id": "3c5b53ca",
   "metadata": {},
   "outputs": [
    {
     "name": "stdout",
     "output_type": "stream",
     "text": [
      "Best Hyperparameters RF 3: {'max_depth': 20, 'min_samples_leaf': 2, 'min_samples_split': 7, 'n_estimators': 250}\n",
      "Best Accuracy RF 3: 0.8116666666666668\n",
      "Test Set Accuracy RF 3: 0.7197452229299363\n"
     ]
    }
   ],
   "source": [
    "print(\"Best Hyperparameters RF 3:\", grid_search_rf_3.best_params_)\n",
    "print(\"Best Accuracy RF 3:\", grid_search_rf_3.best_score_)\n",
    "best_model_rf_3 = grid_search_rf_3.best_estimator_\n",
    "accuracy_rf_3 = best_model_rf_3.score(test_data_3, test_labels_3)\n",
    "print(\"Test Set Accuracy RF 3:\", accuracy_rf_3)"
   ]
  },
  {
   "cell_type": "code",
   "execution_count": 102,
   "id": "c3453138",
   "metadata": {},
   "outputs": [],
   "source": [
    "rf_test_prediction_3 = best_model_rf_3.predict(test_data_3)"
   ]
  },
  {
   "cell_type": "code",
   "execution_count": 103,
   "id": "3dcd5fa5",
   "metadata": {},
   "outputs": [],
   "source": [
    "precision_rf_3 = precision_score(test_labels_3, rf_test_prediction_3)\n",
    "recall_rf_3 = recall_score(test_labels_3, rf_test_prediction_3)\n",
    "f1_rf_3 = f1_score(rf_test_prediction_3, test_labels_3)"
   ]
  },
  {
   "cell_type": "code",
   "execution_count": 104,
   "id": "aac88ea9",
   "metadata": {},
   "outputs": [
    {
     "name": "stdout",
     "output_type": "stream",
     "text": [
      "Precision RF 3: 0.7037037037037037\n",
      "Recall RF 3: 0.7402597402597403\n",
      "F1-SCORE RF 3: 0.7215189873417721\n"
     ]
    }
   ],
   "source": [
    "print(\"Precision RF 3:\", precision_rf_3)\n",
    "print(\"Recall RF 3:\", recall_rf_3)\n",
    "print(\"F1-SCORE RF 3:\", f1_rf_3)"
   ]
  },
  {
   "cell_type": "code",
   "execution_count": 105,
   "id": "0509fc9f",
   "metadata": {},
   "outputs": [
    {
     "data": {
      "text/plain": [
       "array([[56, 20],\n",
       "       [24, 57]], dtype=int64)"
      ]
     },
     "execution_count": 105,
     "metadata": {},
     "output_type": "execute_result"
    }
   ],
   "source": [
    "conf_matrix_rf_3 = confusion_matrix(rf_test_prediction_3, test_labels_3)\n",
    "conf_matrix_rf_3"
   ]
  },
  {
   "cell_type": "markdown",
   "id": "db9d44b9",
   "metadata": {},
   "source": [
    "### Pré-processamento 3: Filtro mediana, CLAHE, escurecimento, erosão, dilatação e filtro Sobel"
   ]
  },
  {
   "cell_type": "code",
   "execution_count": 131,
   "id": "d55faf52",
   "metadata": {},
   "outputs": [],
   "source": [
    "pre_processed_train_crack_4 = \\\n",
    "    pre_process_with_median_clahe_darkening_erosion_dilation( \\\n",
    "                                                       crack_images_for_train_list, \\\n",
    "                                                       median_blur_kernel_size, \\\n",
    "                                                       clahe_clip_limit, \\\n",
    "                                                       clahe_tile_grid_size, \\\n",
    "                                                       element_for_erosion_and_dilation, \\\n",
    "                                                       first_erosion_iterations, \\\n",
    "                                                       first_dilation_iterations)"
   ]
  },
  {
   "cell_type": "code",
   "execution_count": 132,
   "id": "bdc9697b",
   "metadata": {},
   "outputs": [],
   "source": [
    "pre_processed_train_non_crack_4 = \\\n",
    "    pre_process_with_median_clahe_darkening_erosion_dilation( \\\n",
    "                                                       non_crack_images_for_train_list, \\\n",
    "                                                       median_blur_kernel_size, \\\n",
    "                                                       clahe_clip_limit, \\\n",
    "                                                       clahe_tile_grid_size, \\\n",
    "                                                       element_for_erosion_and_dilation, \\\n",
    "                                                       first_erosion_iterations, \\\n",
    "                                                       first_dilation_iterations)"
   ]
  },
  {
   "cell_type": "code",
   "execution_count": 133,
   "id": "b1bdf714",
   "metadata": {},
   "outputs": [],
   "source": [
    "pre_processed_test_crack_4 = \\\n",
    "    pre_process_with_median_clahe_darkening_erosion_dilation( \\\n",
    "                                                           crack_images_for_test_list, \\\n",
    "                                                           median_blur_kernel_size, \\\n",
    "                                                           clahe_clip_limit, \\\n",
    "                                                           clahe_tile_grid_size, \\\n",
    "                                                           element_for_erosion_and_dilation, \\\n",
    "                                                           first_erosion_iterations, \\\n",
    "                                                           first_dilation_iterations)"
   ]
  },
  {
   "cell_type": "code",
   "execution_count": 134,
   "id": "5ca3b010",
   "metadata": {},
   "outputs": [],
   "source": [
    "pre_processed_test_non_crack_4 = \\\n",
    "    pre_process_with_median_clahe_darkening_erosion_dilation( \\\n",
    "                                                           non_crack_images_for_test_list, \\\n",
    "                                                           median_blur_kernel_size, \\\n",
    "                                                           clahe_clip_limit, \\\n",
    "                                                           clahe_tile_grid_size, \\\n",
    "                                                           element_for_erosion_and_dilation, \\\n",
    "                                                           first_erosion_iterations, \\\n",
    "                                                           first_dilation_iterations)"
   ]
  },
  {
   "cell_type": "code",
   "execution_count": 135,
   "id": "e771482c",
   "metadata": {},
   "outputs": [],
   "source": [
    "save_images(base_dir_processed_train_images, \\\n",
    "            pre_processed_train_crack_4, \\\n",
    "            crack_images_for_train_name_list, \\\n",
    "            preprocessed_image_name_prefix, \\\n",
    "            'crack_4')"
   ]
  },
  {
   "cell_type": "code",
   "execution_count": 136,
   "id": "ce270548",
   "metadata": {},
   "outputs": [],
   "source": [
    "save_images(base_dir_processed_train_images, \\\n",
    "            pre_processed_train_non_crack_3, \\\n",
    "            non_crack_images_for_train_name_list, \\\n",
    "            preprocessed_image_name_prefix, \\\n",
    "            'non-crack_4')"
   ]
  },
  {
   "cell_type": "markdown",
   "id": "380c3f4f",
   "metadata": {},
   "source": [
    "Obtendo dados e labels"
   ]
  },
  {
   "cell_type": "code",
   "execution_count": 137,
   "id": "4204782f",
   "metadata": {},
   "outputs": [],
   "source": [
    "input_data_4, input_labels_4 = get_data_and_labels(pre_processed_train_crack_4, pre_processed_train_non_crack_4)"
   ]
  },
  {
   "cell_type": "code",
   "execution_count": 138,
   "id": "00bd002a",
   "metadata": {},
   "outputs": [],
   "source": [
    "test_data_4, test_labels_4 = get_data_and_labels(pre_processed_test_crack_4, pre_processed_test_non_crack_4)"
   ]
  },
  {
   "cell_type": "markdown",
   "id": "91058a1f",
   "metadata": {},
   "source": [
    "#### SVM"
   ]
  },
  {
   "cell_type": "code",
   "execution_count": 139,
   "id": "791c5b94",
   "metadata": {},
   "outputs": [
    {
     "data": {
      "text/plain": [
       "GridSearchCV(cv=5, estimator=SVC(),\n",
       "             param_grid={'C': [0.1, 1, 10], 'gamma': ['scale', 'auto'],\n",
       "                         'kernel': ['linear', 'rbf', 'poly']},\n",
       "             scoring='accuracy')"
      ]
     },
     "execution_count": 139,
     "metadata": {},
     "output_type": "execute_result"
    }
   ],
   "source": [
    "svm_model_4 = SVC()\n",
    "grid_search_svm_4 = GridSearchCV(svm_model_4, svm_param_grid_for_search, cv=5, scoring='accuracy')\n",
    "grid_search_svm_4.fit(input_data_4, input_labels_4)"
   ]
  },
  {
   "cell_type": "code",
   "execution_count": 140,
   "id": "72422bfb",
   "metadata": {},
   "outputs": [
    {
     "name": "stdout",
     "output_type": "stream",
     "text": [
      "Best Hyperparameters SVM 4: {'C': 10, 'gamma': 'scale', 'kernel': 'rbf'}\n",
      "Best Accuracy SVM 4: 0.805\n",
      "Test Set Accuracy SVM 4: 0.8152866242038217\n"
     ]
    }
   ],
   "source": [
    "print(\"Best Hyperparameters SVM 4:\", grid_search_svm_4.best_params_)\n",
    "print(\"Best Accuracy SVM 4:\", grid_search_svm_4.best_score_)\n",
    "best_svm_model_4 = grid_search_svm_4.best_estimator_\n",
    "accuracy_4 = best_svm_model_4.score(test_data_4, test_labels_4)\n",
    "print(\"Test Set Accuracy SVM 4:\", accuracy_4)"
   ]
  },
  {
   "cell_type": "code",
   "execution_count": 141,
   "id": "2db06f76",
   "metadata": {},
   "outputs": [],
   "source": [
    "svm_test_prediction_4 = best_svm_model_4.predict(test_data_4)"
   ]
  },
  {
   "cell_type": "code",
   "execution_count": 142,
   "id": "fce94794",
   "metadata": {},
   "outputs": [],
   "source": [
    "precision_svm_4 = precision_score(test_labels_4, svm_test_prediction_4)\n",
    "recall_svm_4 = recall_score(test_labels_4, svm_test_prediction_4)\n",
    "f1_svm_4 = f1_score(svm_test_prediction_4, test_labels_4)"
   ]
  },
  {
   "cell_type": "code",
   "execution_count": 143,
   "id": "5e8d719c",
   "metadata": {},
   "outputs": [
    {
     "name": "stdout",
     "output_type": "stream",
     "text": [
      "Precision SVM 4: 0.875\n",
      "Recall SVM 4: 0.7272727272727273\n",
      "F1-SCORE SVM 4: 0.7943262411347517\n"
     ]
    }
   ],
   "source": [
    "print(\"Precision SVM 4:\", precision_svm_4)\n",
    "print(\"Recall SVM 4:\", recall_svm_4)\n",
    "print(\"F1-SCORE SVM 4:\", f1_svm_4)"
   ]
  },
  {
   "cell_type": "code",
   "execution_count": 144,
   "id": "b9e48237",
   "metadata": {},
   "outputs": [
    {
     "data": {
      "text/plain": [
       "array([[72, 21],\n",
       "       [ 8, 56]], dtype=int64)"
      ]
     },
     "execution_count": 144,
     "metadata": {},
     "output_type": "execute_result"
    }
   ],
   "source": [
    "conf_matrix_svm_4 = confusion_matrix(svm_test_prediction_4, test_labels_4)\n",
    "conf_matrix_svm_4"
   ]
  },
  {
   "cell_type": "code",
   "execution_count": 145,
   "id": "ad305e6d",
   "metadata": {},
   "outputs": [
    {
     "data": {
      "text/plain": [
       "['trained-models/preprocess4_svm_model.pkl']"
      ]
     },
     "execution_count": 145,
     "metadata": {},
     "output_type": "execute_result"
    }
   ],
   "source": [
    "joblib.dump(best_svm_model_4, base_dir_trained_models + 'preprocess4_' + svm_model_filename)"
   ]
  },
  {
   "cell_type": "markdown",
   "id": "a08d789c",
   "metadata": {},
   "source": [
    "## Melhor modelo obtido"
   ]
  },
  {
   "cell_type": "code",
   "execution_count": 146,
   "id": "86d74a0e",
   "metadata": {},
   "outputs": [],
   "source": [
    "best_model_file_name = 'preprocess1_svm_model.pkl'"
   ]
  },
  {
   "cell_type": "markdown",
   "id": "e90a6f28",
   "metadata": {},
   "source": [
    "## Casos de teste"
   ]
  },
  {
   "cell_type": "code",
   "execution_count": 181,
   "id": "9dccf26a",
   "metadata": {},
   "outputs": [],
   "source": [
    "#best_model = joblib.load(trained_models_dir + best_model_file_name)\n",
    "#best_model = best_model_rf_1\n",
    "best_model = best_svm_model_1"
   ]
  },
  {
   "cell_type": "code",
   "execution_count": 182,
   "id": "633ff276",
   "metadata": {},
   "outputs": [],
   "source": [
    "testcase_image_names = []\n",
    "testcase_image_classes = []"
   ]
  },
  {
   "cell_type": "code",
   "execution_count": 183,
   "id": "d1d742cb",
   "metadata": {},
   "outputs": [],
   "source": [
    "with open(testing_case_dir + testing_case_csv_file_name, 'r') as csv_file:\n",
    "    csv_reader = csv.reader(csv_file)\n",
    "    \n",
    "    next(csv_reader)\n",
    "    \n",
    "    for row in csv_reader:\n",
    "        testcase_image_names.append(row[0])\n",
    "        testcase_image_classes.append(int(row[1]))"
   ]
  },
  {
   "cell_type": "code",
   "execution_count": 166,
   "id": "f2aaf3c6",
   "metadata": {},
   "outputs": [
    {
     "data": {
      "text/plain": [
       "['testing_images/t_01.jpg',\n",
       " 'testing_images/t_02.jpg',\n",
       " 'testing_images/t_03.jpg',\n",
       " 'testing_images/t_04.jpg',\n",
       " 'testing_images/t_05.jpg',\n",
       " 'testing_images/t_06.jpg',\n",
       " 'testing_images/t_07.jpg',\n",
       " 'testing_images/t_08.jpg',\n",
       " 'testing_images/t_09.jpg',\n",
       " 'testing_images/t_10.jpg',\n",
       " 'testing_images/t_11.jpg',\n",
       " 'testing_images/t_12.jpg',\n",
       " 'testing_images/t_13.jpg',\n",
       " 'testing_images/t_14.jpg',\n",
       " 'testing_images/t_15.jpg',\n",
       " 'testing_images/t_16.jpg',\n",
       " 'testing_images/t_17.jpg',\n",
       " 'testing_images/t_18.jpg',\n",
       " 'testing_images/t_19.jpg',\n",
       " 'testing_images/t_20.jpg',\n",
       " 'testing_images/t_21.jpg',\n",
       " 'testing_images/t_22.jpg',\n",
       " 'testing_images/t_23.jpg',\n",
       " 'testing_images/t_24.jpg',\n",
       " 'testing_images/t_25.jpg',\n",
       " 'testing_images/t_26.jpg',\n",
       " 'testing_images/t_27.jpg',\n",
       " 'testing_images/t_28.jpg',\n",
       " 'testing_images/t_29.jpg',\n",
       " 'testing_images/t_30.jpg',\n",
       " 'testing_images/t_31.jpg',\n",
       " 'testing_images/t_32.jpg',\n",
       " 'testing_images/t_33.jpg',\n",
       " 'testing_images/t_34.jpg',\n",
       " 'testing_images/t_35.jpg',\n",
       " 'testing_images/t_36.jpg',\n",
       " 'testing_images/t_37.jpg',\n",
       " 'testing_images/t_38.jpg',\n",
       " 'testing_images/t_39.jpg',\n",
       " 'testing_images/t_40.jpg',\n",
       " 'testing_images/t_41.jpg',\n",
       " 'testing_images/t_42.jpg',\n",
       " 'testing_images/t_43.jpg',\n",
       " 'testing_images/t_44.jpg',\n",
       " 'testing_images/t_45.jpg',\n",
       " 'testing_images/t_46.jpg',\n",
       " 'testing_images/t_47.jpg',\n",
       " 'testing_images/t_48.jpg',\n",
       " 'testing_images/t_49.jpg',\n",
       " 'testing_images/t_50.jpg']"
      ]
     },
     "execution_count": 166,
     "metadata": {},
     "output_type": "execute_result"
    }
   ],
   "source": [
    "testcase_image_names"
   ]
  },
  {
   "cell_type": "code",
   "execution_count": 167,
   "id": "e06aa706",
   "metadata": {},
   "outputs": [],
   "source": [
    "testcase_images = load_images_from_name_list( \\\n",
    "                                         testing_case_dir, \\\n",
    "                                         testcase_image_names, \\\n",
    "                                         default_image_width, default_image_height)"
   ]
  },
  {
   "cell_type": "code",
   "execution_count": 174,
   "id": "00cf764c",
   "metadata": {},
   "outputs": [],
   "source": [
    "pre_processed_testcase_images = pre_process_with_grayscale_median_clahe_darkening_erosion_dilation( \\\n",
    "                                                                                           testcase_images, \\\n",
    "                                                                                           median_blur_kernel_size, \\\n",
    "                                                                                           clahe_clip_limit, \\\n",
    "                                                                                           clahe_tile_grid_size, \\\n",
    "                                                                                           element_for_erosion_and_dilation, \\\n",
    "                                                                                           first_erosion_iterations, \\\n",
    "                                                                                           first_dilation_iterations)"
   ]
  },
  {
   "cell_type": "code",
   "execution_count": 175,
   "id": "1232c8dd",
   "metadata": {},
   "outputs": [],
   "source": [
    "input_testcase_data = list(map(lambda x:x.flatten(), pre_processed_testcase_images))"
   ]
  },
  {
   "cell_type": "code",
   "execution_count": 184,
   "id": "9c5f549e",
   "metadata": {},
   "outputs": [],
   "source": [
    "testcase_predictions = best_model.predict(input_testcase_data)"
   ]
  },
  {
   "cell_type": "code",
   "execution_count": 185,
   "id": "590dba02",
   "metadata": {},
   "outputs": [
    {
     "data": {
      "text/plain": [
       "0.58"
      ]
     },
     "execution_count": 185,
     "metadata": {},
     "output_type": "execute_result"
    }
   ],
   "source": [
    "testcase_accuracy = accuracy_score(testcase_predictions, testcase_image_classes)\n",
    "testcase_accuracy"
   ]
  },
  {
   "cell_type": "code",
   "execution_count": 186,
   "id": "487e2d5e",
   "metadata": {},
   "outputs": [
    {
     "data": {
      "text/plain": [
       "array([[11,  1],\n",
       "       [20, 18]], dtype=int64)"
      ]
     },
     "execution_count": 186,
     "metadata": {},
     "output_type": "execute_result"
    }
   ],
   "source": [
    "testcase_conf_matrix = confusion_matrix(testcase_predictions, testcase_image_classes)\n",
    "testcase_conf_matrix"
   ]
  },
  {
   "cell_type": "code",
   "execution_count": 187,
   "id": "3bce7ff9",
   "metadata": {},
   "outputs": [],
   "source": [
    "precision_final = precision_score(testcase_image_classes, testcase_predictions)\n",
    "recall_final = recall_score(testcase_image_classes, testcase_predictions)\n",
    "f1_final = f1_score(testcase_predictions, testcase_image_classes)"
   ]
  },
  {
   "cell_type": "code",
   "execution_count": 188,
   "id": "da6259e4",
   "metadata": {},
   "outputs": [
    {
     "data": {
      "text/plain": [
       "0.47368421052631576"
      ]
     },
     "execution_count": 188,
     "metadata": {},
     "output_type": "execute_result"
    }
   ],
   "source": [
    "precision_final"
   ]
  },
  {
   "cell_type": "code",
   "execution_count": 189,
   "id": "c74ebdd6",
   "metadata": {},
   "outputs": [
    {
     "data": {
      "text/plain": [
       "0.9473684210526315"
      ]
     },
     "execution_count": 189,
     "metadata": {},
     "output_type": "execute_result"
    }
   ],
   "source": [
    "recall_final"
   ]
  },
  {
   "cell_type": "code",
   "execution_count": 190,
   "id": "a29bd97b",
   "metadata": {},
   "outputs": [
    {
     "data": {
      "text/plain": [
       "0.631578947368421"
      ]
     },
     "execution_count": 190,
     "metadata": {},
     "output_type": "execute_result"
    }
   ],
   "source": [
    "f1_final"
   ]
  },
  {
   "cell_type": "code",
   "execution_count": null,
   "id": "261c13ce",
   "metadata": {},
   "outputs": [],
   "source": []
  }
 ],
 "metadata": {
  "kernelspec": {
   "display_name": "Python 3 (ipykernel)",
   "language": "python",
   "name": "python3"
  },
  "language_info": {
   "codemirror_mode": {
    "name": "ipython",
    "version": 3
   },
   "file_extension": ".py",
   "mimetype": "text/x-python",
   "name": "python",
   "nbconvert_exporter": "python",
   "pygments_lexer": "ipython3",
   "version": "3.9.13"
  }
 },
 "nbformat": 4,
 "nbformat_minor": 5
}
